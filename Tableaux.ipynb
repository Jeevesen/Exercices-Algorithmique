{
 "cells": [
  {
   "cell_type": "markdown",
   "source": [
    "## La somme"
   ],
   "metadata": {
    "collapsed": false,
    "pycharm": {
     "name": "#%% md\n"
    }
   }
  },
  {
   "cell_type": "code",
   "execution_count": 7,
   "metadata": {
    "collapsed": true
   },
   "outputs": [
    {
     "name": "stdout",
     "output_type": "stream",
     "text": [
      "3\n"
     ]
    }
   ],
   "source": [
    "tab=[1,2,3]\n",
    "res=0\n",
    "print(len(tab))\n",
    "for i in range(0,len(tab)):\n",
    "    res=+ tab[i]"
   ]
  },
  {
   "cell_type": "markdown",
   "source": [
    "## La somme : retour"
   ],
   "metadata": {
    "collapsed": false
   }
  },
  {
   "cell_type": "code",
   "execution_count": 18,
   "outputs": [
    {
     "data": {
      "text/plain": "[5, 7, 9]"
     },
     "execution_count": 18,
     "metadata": {},
     "output_type": "execute_result"
    }
   ],
   "source": [
    "a = [1, 2, 3,]\n",
    "b = [4, 5, 6,]\n",
    "FinalTab = []\n",
    "for i in range(0,len(a)) :\n",
    "    c = a[i] + b[i]\n",
    "    FinalTab.append(c)\n",
    "FinalTab"
   ],
   "metadata": {
    "collapsed": false,
    "pycharm": {
     "name": "#%%\n"
    }
   }
  },
  {
   "cell_type": "markdown",
   "source": [
    "## FacProduct"
   ],
   "metadata": {
    "collapsed": false
   }
  },
  {
   "cell_type": "code",
   "execution_count": 17,
   "outputs": [
    {
     "name": "stdout",
     "output_type": "stream",
     "text": [
      "350\n"
     ]
    }
   ],
   "source": [
    "a = [10, 20, 30, 40, 50]\n",
    "b = [5, 4, 3, 2, 1]\n",
    "FinalTab = []\n",
    "for i in range(0,len(a)) :\n",
    "    c = a[i] * b[i]\n",
    "    FinalTab.append(c)\n",
    "FinalTab\n",
    "\n",
    "z = 0\n",
    "for i in range(0,len(a)) :\n",
    "    z = z + FinalTab[i]\n",
    "print(z)"
   ],
   "metadata": {
    "collapsed": false,
    "pycharm": {
     "name": "#%%\n"
    }
   }
  },
  {
   "cell_type": "markdown",
   "source": [
    "## Le Plus Grand"
   ],
   "metadata": {
    "collapsed": false
   }
  },
  {
   "cell_type": "code",
   "execution_count": null,
   "outputs": [],
   "source": [
    "items = [-1,10,5,3,8,4,1]\n",
    "for j in range(len(items)):\n",
    "    if j == 0:\n",
    "        res = items[j]\n",
    "    else:\n",
    "        if items[j] > res:\n",
    "            res = items[j]\n",
    "            item = j\n",
    "(res, item)"
   ],
   "metadata": {
    "collapsed": false,
    "pycharm": {
     "name": "#%%\n"
    }
   }
  }
 ],
 "metadata": {
  "kernelspec": {
   "display_name": "Python 3",
   "language": "python",
   "name": "python3"
  },
  "language_info": {
   "codemirror_mode": {
    "name": "ipython",
    "version": 2
   },
   "file_extension": ".py",
   "mimetype": "text/x-python",
   "name": "python",
   "nbconvert_exporter": "python",
   "pygments_lexer": "ipython2",
   "version": "2.7.6"
  }
 },
 "nbformat": 4,
 "nbformat_minor": 0
}