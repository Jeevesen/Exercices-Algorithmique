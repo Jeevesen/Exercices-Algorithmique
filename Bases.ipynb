{
 "cells": [
  {
   "cell_type": "markdown",
   "id": "fifteen-israel",
   "metadata": {},
   "source": [
    "## Simple échange"
   ]
  },
  {
   "cell_type": "code",
   "execution_count": 1,
   "id": "accepted-silence",
   "metadata": {},
   "outputs": [
    {
     "data": {
      "text/plain": "(2, 1)"
     },
     "execution_count": 1,
     "metadata": {},
     "output_type": "execute_result"
    }
   ],
   "source": [
    "a,b=1,2\n",
    "a,b=b,a\n",
    "a,b"
   ]
  },
  {
   "cell_type": "markdown",
   "id": "addressed-satellite",
   "metadata": {},
   "source": [
    "## Le carré"
   ]
  },
  {
   "cell_type": "code",
   "execution_count": 2,
   "id": "composed-artwork",
   "metadata": {
    "scrolled": true
   },
   "outputs": [
    {
     "data": {
      "text/plain": "25.0"
     },
     "execution_count": 2,
     "metadata": {},
     "output_type": "execute_result"
    }
   ],
   "source": [
    "a=float(input(\"Entrez un nombre : \"))\n",
    "res=a*a\n",
    "res"
   ]
  },
  {
   "cell_type": "markdown",
   "id": "hindu-deployment",
   "metadata": {},
   "source": [
    "## La condition"
   ]
  },
  {
   "cell_type": "code",
   "execution_count": 3,
   "id": "secret-texture",
   "metadata": {},
   "outputs": [
    {
     "name": "stdout",
     "output_type": "stream",
     "text": [
      "C'est un nombre positif\n"
     ]
    }
   ],
   "source": [
    "a=float(input(\"Entrez un nombre :\"))\n",
    "if a<0:\n",
    "    print(\"C'est un nombre négatif\")\n",
    "else:\n",
    "    print(\"C'est un nombre positif\")"
   ]
  },
  {
   "cell_type": "markdown",
   "id": "legendary-horizontal",
   "metadata": {},
   "source": [
    "## Le produit"
   ]
  },
  {
   "cell_type": "code",
   "execution_count": 4,
   "id": "indoor-youth",
   "metadata": {},
   "outputs": [
    {
     "name": "stdout",
     "output_type": "stream",
     "text": [
      "C'est un nombre négatif\n"
     ]
    }
   ],
   "source": [
    "a=float(input(\"Entrez le premier nombre :\"))\n",
    "b=float(input(\"Entrez le deuxième nombre :\"))\n",
    "if (a<0) and (b<0) :\n",
    "    print(\"C'est un nombre positif\")\n",
    "else:\n",
    "    print(\"C'est un nombre négatif\")"
   ]
  },
  {
   "cell_type": "markdown",
   "id": "pacific-theta",
   "metadata": {},
   "source": [
    "## Calcul"
   ]
  },
  {
   "cell_type": "code",
   "execution_count": 5,
   "id": "horizontal-veteran",
   "metadata": {},
   "outputs": [
    {
     "name": "stdout",
     "output_type": "stream",
     "text": [
      "6\n",
      "7\n",
      "8\n",
      "9\n",
      "10\n",
      "11\n",
      "12\n",
      "13\n",
      "14\n",
      "15\n"
     ]
    }
   ],
   "source": [
    "a=int(input(\"Entrez le premier nombre :\"))\n",
    "b=a+11\n",
    "for i in range(a+1, b):\n",
    "    print(i)"
   ]
  },
  {
   "cell_type": "markdown",
   "id": "moving-painting",
   "metadata": {},
   "source": [
    "## Additivité"
   ]
  },
  {
   "cell_type": "code",
   "execution_count": 8,
   "id": "fiscal-balloon",
   "metadata": {},
   "outputs": [
    {
     "ename": "ValueError",
     "evalue": "invalid literal for int() with base 10: ''",
     "output_type": "error",
     "traceback": [
      "\u001B[1;31m---------------------------------------------------------------------------\u001B[0m",
      "\u001B[1;31mValueError\u001B[0m                                Traceback (most recent call last)",
      "\u001B[1;32m<ipython-input-8-2bd83a33f614>\u001B[0m in \u001B[0;36m<module>\u001B[1;34m\u001B[0m\n\u001B[1;32m----> 1\u001B[1;33m \u001B[0ma\u001B[0m\u001B[1;33m=\u001B[0m\u001B[0mint\u001B[0m\u001B[1;33m(\u001B[0m\u001B[0minput\u001B[0m\u001B[1;33m(\u001B[0m\u001B[1;34m\"Entrez le premier nombre :\"\u001B[0m\u001B[1;33m)\u001B[0m\u001B[1;33m)\u001B[0m\u001B[1;33m\u001B[0m\u001B[1;33m\u001B[0m\u001B[0m\n\u001B[0m\u001B[0;32m      2\u001B[0m \u001B[1;33m\u001B[0m\u001B[0m\n",
      "\u001B[1;31mValueError\u001B[0m: invalid literal for int() with base 10: ''"
     ]
    }
   ],
   "source": [
    "a=int(input(\"Entrez le premier nombre :\"))"
   ]
  },
  {
   "cell_type": "code",
   "execution_count": 6,
   "id": "northern-claim",
   "metadata": {},
   "outputs": [],
   "source": []
  }
 ],
 "metadata": {
  "kernelspec": {
   "display_name": "Python 3",
   "language": "python",
   "name": "python3"
  },
  "language_info": {
   "codemirror_mode": {
    "name": "ipython",
    "version": 3
   },
   "file_extension": ".py",
   "mimetype": "text/x-python",
   "name": "python",
   "nbconvert_exporter": "python",
   "pygments_lexer": "ipython3",
   "version": "3.9.2"
  }
 },
 "nbformat": 4,
 "nbformat_minor": 5
}