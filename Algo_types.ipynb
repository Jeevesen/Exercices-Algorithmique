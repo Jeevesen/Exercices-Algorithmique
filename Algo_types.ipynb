{
 "cells": [
  {
   "cell_type": "markdown",
   "source": [
    "## Target somme"
   ],
   "metadata": {
    "collapsed": false,
    "pycharm": {
     "name": "#%% md\n"
    }
   }
  },
  {
   "cell_type": "code",
   "execution_count": 1,
   "outputs": [
    {
     "name": "stdout",
     "output_type": "stream",
     "text": [
      "{3: True}\n",
      "{3: True, 5: True}\n",
      "{3: True, 5: True, -4: True}\n",
      "{3: True, 5: True, -4: True, 8: True}\n",
      "{3: True, 5: True, -4: True, 8: True, 11: True}\n",
      "{3: True, 5: True, -4: True, 8: True, 11: True, 1: True}\n"
     ]
    },
    {
     "data": {
      "text/plain": "[11, -1]"
     },
     "execution_count": 1,
     "metadata": {},
     "output_type": "execute_result"
    }
   ],
   "source": [
    "def target_somme(array, targetSum):\n",
    "    #sol2 -> O(n) time | O(1) space\n",
    "    nums={}\n",
    "    for num in array:\n",
    "        tmp = targetSum - num\n",
    "        if tmp in nums:\n",
    "            return [tmp,num]\n",
    "        else:\n",
    "            nums[num] = True\n",
    "        print(nums)\n",
    "    return []\n",
    "target_somme([3,5,-4,8,11,1,-1,6],10)"
   ],
   "metadata": {
    "collapsed": false,
    "pycharm": {
     "name": "#%%\n"
    }
   }
  },
  {
   "cell_type": "code",
   "execution_count": 2,
   "outputs": [
    {
     "data": {
      "text/plain": "[-1, 11]"
     },
     "execution_count": 2,
     "metadata": {},
     "output_type": "execute_result"
    }
   ],
   "source": [
    "def targetSomme2(liste, target):\n",
    "    dico = {}\n",
    "    for item in liste:\n",
    "        dico[target - item] = item\n",
    "        if (item in dico and dico[item] != item):\n",
    "            return [item, dico[item]]\n",
    "    return []\n",
    "targetSomme2([3, 5, -4, 8, 11, 1, -1, 6], 10)"
   ],
   "metadata": {
    "collapsed": false,
    "pycharm": {
     "name": "#%%\n"
    }
   }
  },
  {
   "cell_type": "markdown",
   "source": [
    "## La distance de Levenshtein"
   ],
   "metadata": {
    "collapsed": false
   }
  },
  {
   "cell_type": "code",
   "execution_count": 44,
   "outputs": [
    {
     "data": {
      "text/plain": "0"
     },
     "execution_count": 44,
     "metadata": {},
     "output_type": "execute_result"
    }
   ],
   "source": [
    "#Algorithm Wiki\n",
    "def levenshtein (str1,str2):\n",
    "    a = len(str1)\n",
    "    b = len(str2)\n",
    "\n",
    "    table = [[0 for i in range(b+1)] for j in range(a+1)]\n",
    "\n",
    "    coutSubstitution = int\n",
    "\n",
    "    for i in range(a+1):\n",
    "        table[i][0] = i\n",
    "    for j in range(b+1):\n",
    "        table[0][j] = j\n",
    "\n",
    "    for i in range(1, a):\n",
    "        for j in range(1, b):\n",
    "            if str1[i] == str2[j]:\n",
    "                coutSubstitution = 0\n",
    "            else:\n",
    "                coutSubstitution = 1\n",
    "                table[i][j] = 1 + min(table[i-1][j] + 1,\n",
    "                                      table[i][j-1] + 1,\n",
    "                                      table[i-1][j-1] + coutSubstitution\n",
    "                                      )\n",
    "    return table[a][b]\n",
    "levenshtein(\"niche\",\"chien\")"
   ],
   "metadata": {
    "collapsed": false,
    "pycharm": {
     "name": "#%%\n"
    }
   }
  },
  {
   "cell_type": "code",
   "execution_count": 43,
   "outputs": [
    {
     "data": {
      "text/plain": "2"
     },
     "execution_count": 43,
     "metadata": {},
     "output_type": "execute_result"
    }
   ],
   "source": [
    "def levenshtein (str1,str2):\n",
    "    a = len(str1)\n",
    "    b = len(str2)\n",
    "\n",
    "    table = [[0 for i in range(b+1)] for j in range(a+1)]\n",
    "\n",
    "    for i in range(a+1):\n",
    "        for j in range(b+1):\n",
    "            if i == 0:\n",
    "                table[0][j] = j\n",
    "            elif j == 0:\n",
    "                table[i][0] = i\n",
    "            elif str1[i-1] == str2[j-1]:\n",
    "                table[i][j] = table[i-1][j-1]\n",
    "            else:\n",
    "                table[i][j] = 1 + min(table[i-1][j],\n",
    "                                      table[i][j-1],\n",
    "                                      table[i-1][j-1]\n",
    "                                      )\n",
    "    return table[a][b]\n",
    "levenshtein(\"maçon\",\"maison\") "
   ],
   "metadata": {
    "collapsed": false,
    "pycharm": {
     "name": "#%%\n"
    }
   }
  }
 ],
 "metadata": {
  "kernelspec": {
   "display_name": "Python 3",
   "language": "python",
   "name": "python3"
  },
  "language_info": {
   "codemirror_mode": {
    "name": "ipython",
    "version": 2
   },
   "file_extension": ".py",
   "mimetype": "text/x-python",
   "name": "python",
   "nbconvert_exporter": "python",
   "pygments_lexer": "ipython2",
   "version": "2.7.6"
  }
 },
 "nbformat": 4,
 "nbformat_minor": 0
}