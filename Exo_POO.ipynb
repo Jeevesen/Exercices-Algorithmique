{
 "cells": [
  {
   "cell_type": "markdown",
   "source": [
    "## Le compte bancaire"
   ],
   "metadata": {
    "collapsed": false
   }
  },
  {
   "cell_type": "code",
   "execution_count": 19,
   "outputs": [
    {
     "name": "stdout",
     "output_type": "stream",
     "text": [
      "Le compte bancaire de  Duchmol  est de  950  €\n",
      "Le compte bancaire de  Dupont  est de  1025  €\n"
     ]
    }
   ],
   "source": [
    "class CompteBancaire :\n",
    "\n",
    "    def __init__(self, nom=\"Dupont\", solde=1000) :\n",
    "        self.nom = nom\n",
    "        self.solde = solde\n",
    "\n",
    "    def depot(self, value) :\n",
    "        self.solde = self.solde + value\n",
    "\n",
    "    def retrait(self, value) :\n",
    "        self.solde = self.solde - value\n",
    "\n",
    "    def affiche(self) :\n",
    "        print(\"Le compte bancaire de \", self.nom , \" est de \" , self.solde , \" €\")\n",
    "\n",
    "compte1 = CompteBancaire(\"Duchmol\", 800)\n",
    "compte1.depot(350)\n",
    "compte1.retrait(200)\n",
    "compte1.affiche()\n",
    "\n",
    "compte2 = CompteBancaire()\n",
    "compte2.depot(25)\n",
    "compte2.affiche()"
   ],
   "metadata": {
    "collapsed": false,
    "pycharm": {
     "name": "#%%\n"
    }
   }
  }
 ],
 "metadata": {
  "kernelspec": {
   "display_name": "Python 3",
   "language": "python",
   "name": "python3"
  },
  "language_info": {
   "codemirror_mode": {
    "name": "ipython",
    "version": 2
   },
   "file_extension": ".py",
   "mimetype": "text/x-python",
   "name": "python",
   "nbconvert_exporter": "python",
   "pygments_lexer": "ipython2",
   "version": "2.7.6"
  }
 },
 "nbformat": 4,
 "nbformat_minor": 0
}